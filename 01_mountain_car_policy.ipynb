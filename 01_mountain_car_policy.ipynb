{
 "cells": [
  {
   "cell_type": "code",
   "execution_count": 1,
   "metadata": {},
   "outputs": [],
   "source": [
    "import gym"
   ]
  },
  {
   "cell_type": "code",
   "execution_count": 2,
   "metadata": {},
   "outputs": [],
   "source": [
    "env = gym.make(\"MountainCar-v0\")"
   ]
  },
  {
   "cell_type": "code",
   "execution_count": 3,
   "metadata": {},
   "outputs": [],
   "source": [
    "env.reset()\n",
    "numIterations = 0\n",
    "prev = -1\n",
    "curr = 2\n",
    "\n",
    "# Running the policy for 200 iterations. We break out of the loop if the goal has been reached as well\n",
    "for i in range(300):\n",
    "    numIterations = 0\n",
    "    while numIterations < 200:\n",
    "        env.render()\n",
    "        next_state,reward,done,_ = env.step(curr)\n",
    "\n",
    "        # Setting the actions based on the reward\n",
    "        if prev < 0 and next_state[1] > 0:\n",
    "            curr = 2\n",
    "\n",
    "        if prev > 0 and next_state[1] < 0:\n",
    "            curr = 1\n",
    "\n",
    "        if done:\n",
    "            break\n",
    "\n",
    "        prev = next_state[1]\n",
    "        numIterations += 1\n",
    "\n",
    "env.close()"
   ]
  },
  {
   "cell_type": "code",
   "execution_count": null,
   "metadata": {},
   "outputs": [],
   "source": []
  },
  {
   "cell_type": "code",
   "execution_count": null,
   "metadata": {},
   "outputs": [],
   "source": []
  }
 ],
 "metadata": {
  "kernelspec": {
   "display_name": "Python 3",
   "language": "python",
   "name": "python3"
  },
  "language_info": {
   "codemirror_mode": {
    "name": "ipython",
    "version": 3
   },
   "file_extension": ".py",
   "mimetype": "text/x-python",
   "name": "python",
   "nbconvert_exporter": "python",
   "pygments_lexer": "ipython3",
   "version": "3.6.0"
  }
 },
 "nbformat": 4,
 "nbformat_minor": 2
}
