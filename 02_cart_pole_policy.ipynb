{
 "cells": [
  {
   "cell_type": "code",
   "execution_count": 7,
   "metadata": {},
   "outputs": [],
   "source": [
    "import gym"
   ]
  },
  {
   "cell_type": "code",
   "execution_count": 8,
   "metadata": {},
   "outputs": [],
   "source": [
    "env = gym.make(\"CartPole-v1\")"
   ]
  },
  {
   "cell_type": "code",
   "execution_count": 9,
   "metadata": {},
   "outputs": [],
   "source": [
    "env.reset()\n",
    "numEpisodes = 0\n",
    "prev1 = 0\n",
    "prev2 = 0\n",
    "prev3 = 0\n",
    "prev4 = 0\n",
    "\n",
    "curr = 1\n",
    "\n",
    "# Running the policy for 200 iterations. We break out of the loop if the goal has been reached as well\n",
    "for i in range(300):\n",
    "    while numEpisodes < 200:\n",
    "        \n",
    "        env.render()\n",
    "        state,reward,done,empty = env.step(curr)\n",
    "        \n",
    "        if state[0] < -2.4 and state[1] < float('-inf') and state[2] < -41.8 and state[3] < float('-inf'):\n",
    "            curr = 1\n",
    "            \n",
    "        if state[0] > 2.4 and state[1] > float('inf') and state[2] > 41.8 and state[3] > float('inf'):\n",
    "            curr = 0\n",
    "        \n",
    "        \n",
    "        numEpisodes += 1\n",
    "\n",
    "env.close()"
   ]
  },
  {
   "cell_type": "code",
   "execution_count": null,
   "metadata": {},
   "outputs": [],
   "source": []
  },
  {
   "cell_type": "code",
   "execution_count": null,
   "metadata": {},
   "outputs": [],
   "source": []
  }
 ],
 "metadata": {
  "kernelspec": {
   "display_name": "Python 3",
   "language": "python",
   "name": "python3"
  },
  "language_info": {
   "codemirror_mode": {
    "name": "ipython",
    "version": 3
   },
   "file_extension": ".py",
   "mimetype": "text/x-python",
   "name": "python",
   "nbconvert_exporter": "python",
   "pygments_lexer": "ipython3",
   "version": "3.6.0"
  }
 },
 "nbformat": 4,
 "nbformat_minor": 2
}
